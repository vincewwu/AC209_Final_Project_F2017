{
 "cells": [
  {
   "cell_type": "markdown",
   "metadata": {},
   "source": [
    "# CS 109A/STAT 121A/AC 209A/CSCI E-109A: \n",
    "# Final Project - 2017\n",
    "\n",
    "**Harvard University**<br/>\n",
    "**Fall 2017**<br/>\n",
    "**Instructors**: Pavlos Protopapas, Kevin Rader, Rahul Dave, Margo Levine<br/>\n",
    "**Leading TF**: Albert Wu<br/>\n",
    "**Project Group #**: 16 (Sports)\n",
    "\n",
    "---"
   ]
  },
  {
   "cell_type": "code",
   "execution_count": 2,
   "metadata": {
    "collapsed": true
   },
   "outputs": [],
   "source": [
    "%matplotlib inline\n",
    "import numpy as np\n",
    "import scipy as sp\n",
    "import matplotlib as mpl\n",
    "import matplotlib.cm as cm\n",
    "import matplotlib.pyplot as plt\n",
    "import pandas as pd\n",
    "from IPython.display import IFrame, HTML\n",
    "import requests\n",
    "from bs4 import BeautifulSoup"
   ]
  },
  {
   "cell_type": "code",
   "execution_count": 3,
   "metadata": {
    "collapsed": true
   },
   "outputs": [],
   "source": [
    "box1_req = requests.get(\"https://www.basketball-reference.com/boxscores/201710170CLE.html\")\n",
    "box1_page = box1_req.text\n",
    "box1_soup = BeautifulSoup(box1_page, 'html.parser')"
   ]
  },
  {
   "cell_type": "code",
   "execution_count": 16,
   "metadata": {
    "collapsed": true
   },
   "outputs": [],
   "source": [
    "box1_tables = box1_soup.find('div', id=\"all_box_bos_basic\")"
   ]
  },
  {
   "cell_type": "code",
   "execution_count": 20,
   "metadata": {
    "collapsed": true
   },
   "outputs": [],
   "source": [
    "box1_rows = box1_tables.find('table', 'stats_table', 'sortable').find('tbody').find_all('tr')"
   ]
  },
  {
   "cell_type": "code",
   "execution_count": 28,
   "metadata": {
    "collapsed": true
   },
   "outputs": [],
   "source": [
    "players = []\n",
    "for row in box1_rows:\n",
    "    players.append(row.find('th').get_text())\n",
    "players.remove('Reserves')"
   ]
  },
  {
   "cell_type": "code",
   "execution_count": 42,
   "metadata": {},
   "outputs": [
    {
     "data": {
      "text/plain": [
       "['Jaylen Brown',\n",
       " 'Kyrie Irving',\n",
       " 'Jayson Tatum',\n",
       " 'Al Horford',\n",
       " 'Gordon Hayward',\n",
       " 'Marcus Smart',\n",
       " 'Terry Rozier',\n",
       " 'Aron Baynes',\n",
       " 'Semi Ojeleye',\n",
       " 'Shane Larkin',\n",
       " 'Abdel Nader',\n",
       " 'Daniel Theis']"
      ]
     },
     "execution_count": 42,
     "metadata": {},
     "output_type": "execute_result"
    }
   ],
   "source": [
    "players"
   ]
  },
  {
   "cell_type": "code",
   "execution_count": 126,
   "metadata": {
    "collapsed": true
   },
   "outputs": [],
   "source": [
    "game1_dict = {}\n",
    "count_start = 0\n",
    "for player in players:\n",
    "    if count_start < 5:\n",
    "        game1_dict[player] = [1]\n",
    "        count_start += 1\n",
    "    else:\n",
    "        game1_dict[player] = [0]"
   ]
  },
  {
   "cell_type": "code",
   "execution_count": 127,
   "metadata": {},
   "outputs": [
    {
     "data": {
      "text/plain": [
       "{'Abdel Nader': [0],\n",
       " 'Al Horford': [1],\n",
       " 'Aron Baynes': [0],\n",
       " 'Daniel Theis': [0],\n",
       " 'Gordon Hayward': [1],\n",
       " 'Jaylen Brown': [1],\n",
       " 'Jayson Tatum': [1],\n",
       " 'Kyrie Irving': [1],\n",
       " 'Marcus Smart': [0],\n",
       " 'Semi Ojeleye': [0],\n",
       " 'Shane Larkin': [0],\n",
       " 'Terry Rozier': [0]}"
      ]
     },
     "execution_count": 127,
     "metadata": {},
     "output_type": "execute_result"
    }
   ],
   "source": [
    "game1_dict"
   ]
  },
  {
   "cell_type": "code",
   "execution_count": 62,
   "metadata": {
    "collapsed": true
   },
   "outputs": [],
   "source": [
    "game1_req = requests.get(\"https://www.basketball-reference.com/boxscores/pbp/201710200PHI.html\")\n",
    "game1_page = game1_req.text\n",
    "game1_soup = BeautifulSoup(game1_page, 'html.parser')"
   ]
  },
  {
   "cell_type": "code",
   "execution_count": 63,
   "metadata": {
    "collapsed": true
   },
   "outputs": [],
   "source": [
    "gmae1_table = game1_soup.find('table', 'stats_table', 'sortable')"
   ]
  },
  {
   "cell_type": "code",
   "execution_count": 67,
   "metadata": {
    "collapsed": true
   },
   "outputs": [],
   "source": [
    "game1_rows = gmae1_table.find_all('tr')"
   ]
  },
  {
   "cell_type": "code",
   "execution_count": 107,
   "metadata": {},
   "outputs": [
    {
     "data": {
      "text/plain": [
       "520"
      ]
     },
     "execution_count": 107,
     "metadata": {},
     "output_type": "execute_result"
    }
   ],
   "source": [
    "len(game1_rows)"
   ]
  },
  {
   "cell_type": "code",
   "execution_count": null,
   "metadata": {
    "collapsed": true
   },
   "outputs": [],
   "source": []
  },
  {
   "cell_type": "code",
   "execution_count": null,
   "metadata": {
    "collapsed": true
   },
   "outputs": [],
   "source": [
    "# Set up variables:\n",
    "game1_dict['time_left'] = []\n",
    "\n",
    "game1_dict['home_make'] = []\n",
    "game1_dict['home_assist'] = []\n",
    "game1_dict['home_fouled'] = []\n",
    "\n",
    "\n",
    "game1_dict['road_score'] = []\n",
    "game1_dict['home_score'] = []\n",
    "game1_dict['score_diff'] = []"
   ]
  },
  {
   "cell_type": "code",
   "execution_count": null,
   "metadata": {
    "collapsed": true
   },
   "outputs": [],
   "source": [
    "quarter_str = ['Start of 1st', 'Start of 2nd', 'Start of 3rd', 'Start of 4th']\n",
    "quarter_mul = [1, 2, 3, 4]\n",
    "for row in game1_rows:\n",
    "    if len(row.find_all('td')) == 6:\n",
    "        row_info = row.find_all('td')\n",
    "        \n",
    "        # Calculate Time Left\n",
    "        time_str = row_info[0].get_text().split(':')\n",
    "        time_min = float(time_str[0])\n",
    "        time_s = float(time_str[1])\n",
    "        time_adj = time_min*mul + time_s\n",
    "        game1_dict['time_left'].append(1 - time_adj/(48*60))\n",
    "        \n",
    "        # Road Team Possesion\n",
    "        home_possesion = row_info[1].get_text()\n",
    "        if home_possesion != '\\xa0':\n",
    "            if 'makes' in home_possesion:\n",
    "                game1_dict['home_make'].append(1)\n",
    "                if 'assist' in home_possesion:\n",
    "                    game1_dict['home_assist'].append(1)\n",
    "                game1_dict['home_fouled'].append(0)\n",
    "            else:\n",
    "                game1_dict['home_make'].append(0)\n",
    "                game1_dict['home_assist'].append(0)\n",
    "                if 'Shooting foul' in home_possesion:\n",
    "                    game1_dict['home_fouled'].append(1)\n",
    "            \n",
    "        # Score\n",
    "        score_str = row_info[3].split('-')\n",
    "        game1_dict['road_score'].append(int(score_str[0]))\n",
    "        game1_dict['home_score'].append(int(score_str[1]))\n",
    "        game1_dict['score_diff'].append(home_score - road_score)\n",
    "        \n",
    "        # Home Tram Possesion\n",
    "        if row_info[5].get_text() != '\\xa0':\n",
    "            \n",
    "    else:\n",
    "        for ind in range(len(quarter_str)):\n",
    "            if quarter_str[ind] in row.get_text():\n",
    "                mul = quarter_mul[ind]\n",
    "                break"
   ]
  },
  {
   "cell_type": "code",
   "execution_count": 128,
   "metadata": {},
   "outputs": [
    {
     "data": {
      "text/plain": [
       "[<td>11:40.0</td>,\n",
       " <td> </td>,\n",
       " <td> </td>,\n",
       " <td class=\" center\">0-0</td>,\n",
       " <td class=\"\"> </td>,\n",
       " <td class=\"\"><a href=\"/players/c/covinro01.html\">R. Covington</a> misses 2-pt shot from 11 ft</td>]"
      ]
     },
     "execution_count": 128,
     "metadata": {},
     "output_type": "execute_result"
    }
   ],
   "source": [
    "game1_rows[4].find_all('td')"
   ]
  },
  {
   "cell_type": "code",
   "execution_count": 130,
   "metadata": {},
   "outputs": [
    {
     "data": {
      "text/plain": [
       "'R. Covington misses 2-pt shot from 11 ft'"
      ]
     },
     "execution_count": 130,
     "metadata": {},
     "output_type": "execute_result"
    }
   ],
   "source": [
    "game1_rows[4].find_all('td')[5].get_text()"
   ]
  },
  {
   "cell_type": "code",
   "execution_count": 33,
   "metadata": {},
   "outputs": [
    {
     "data": {
      "text/plain": [
       "'J. Embiid'"
      ]
     },
     "execution_count": 33,
     "metadata": {},
     "output_type": "execute_result"
    }
   ],
   "source": [
    "rown = game1_rows[3]\n",
    "rown.find_all('td')[1].find_all('a')[0].get_text()"
   ]
  },
  {
   "cell_type": "code",
   "execution_count": null,
   "metadata": {
    "collapsed": true
   },
   "outputs": [],
   "source": []
  }
 ],
 "metadata": {
  "kernelspec": {
   "display_name": "Python 3",
   "language": "python",
   "name": "python3"
  },
  "language_info": {
   "codemirror_mode": {
    "name": "ipython",
    "version": 3
   },
   "file_extension": ".py",
   "mimetype": "text/x-python",
   "name": "python",
   "nbconvert_exporter": "python",
   "pygments_lexer": "ipython3",
   "version": "3.6.1"
  }
 },
 "nbformat": 4,
 "nbformat_minor": 2
}
